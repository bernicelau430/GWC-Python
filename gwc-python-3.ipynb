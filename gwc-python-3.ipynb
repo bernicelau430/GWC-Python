{
 "cells": [
  {
   "cell_type": "markdown",
   "metadata": {},
   "source": [
    "# PYTHON BASICS\n"
   ]
  },
  {
   "cell_type": "code",
   "execution_count": 32,
   "metadata": {
    "scrolled": true
   },
   "outputs": [],
   "source": [
    "# String - a string of characters\n",
    "# Integer  - a whole number\n",
    "# Float - decimals\n",
    "# Boolean  - T or F"
   ]
  },
  {
   "cell_type": "code",
   "execution_count": 33,
   "metadata": {
    "scrolled": true,
    "tags": []
   },
   "outputs": [
    {
     "name": "stdout",
     "output_type": "stream",
     "text": [
      "Hello World\n",
      "5\n",
      "55.5\n",
      "True\n"
     ]
    }
   ],
   "source": [
    "# print statements\n",
    "print(\"Hello World\")\n",
    "print(5)\n",
    "print(55.5)\n",
    "print(True)\n"
   ]
  },
  {
   "cell_type": "code",
   "execution_count": 35,
   "metadata": {
    "scrolled": true,
    "tags": []
   },
   "outputs": [
    {
     "name": "stdout",
     "output_type": "stream",
     "text": [
      "Hello World\n",
      "5\n",
      "55.5\n",
      "True\n"
     ]
    }
   ],
   "source": [
    "myString = \"Hello World\"\n",
    "myInteger = 5\n",
    "myFloat = 55.5\n",
    "myBoolean = True\n",
    "\n",
    "print(myString)\n",
    "print(myInteger)\n",
    "print(myFloat)\n",
    "print(myBoolean)\n"
   ]
  },
  {
   "cell_type": "markdown",
   "metadata": {},
   "source": [
    "## WHAT IS THE OUTPUT?\n"
   ]
  },
  {
   "cell_type": "code",
   "execution_count": 36,
   "metadata": {
    "scrolled": true,
    "tags": []
   },
   "outputs": [
    {
     "name": "stdout",
     "output_type": "stream",
     "text": [
      "Hello World I'm Kimia\n"
     ]
    }
   ],
   "source": [
    "# myString = \"Hello World\"\n",
    "print(myString + \" I'm Kimia\")"
   ]
  },
  {
   "cell_type": "code",
   "execution_count": 16,
   "metadata": {
    "scrolled": true
   },
   "outputs": [
    {
     "ename": "TypeError",
     "evalue": "can only concatenate str (not \"int\") to str",
     "output_type": "error",
     "traceback": [
      "\u001b[1;31m---------------------------------------------------------------------------\u001b[0m",
      "\u001b[1;31mTypeError\u001b[0m                                 Traceback (most recent call last)",
      "\u001b[1;32m<ipython-input-16-20a1fedc4363>\u001b[0m in \u001b[0;36m<module>\u001b[1;34m\u001b[0m\n\u001b[1;32m----> 1\u001b[1;33m \u001b[0mprint\u001b[0m\u001b[1;33m(\u001b[0m\u001b[0mmyString\u001b[0m \u001b[1;33m+\u001b[0m \u001b[1;36m6\u001b[0m\u001b[1;33m)\u001b[0m\u001b[1;33m\u001b[0m\u001b[1;33m\u001b[0m\u001b[0m\n\u001b[0m",
      "\u001b[1;31mTypeError\u001b[0m: can only concatenate str (not \"int\") to str"
     ]
    }
   ],
   "source": [
    "print(myString + 6)"
   ]
  },
  {
   "cell_type": "markdown",
   "metadata": {},
   "source": [
    "## MATH OPERATORS\n",
    "#   +   -   /   //  %"
   ]
  },
  {
   "cell_type": "code",
   "execution_count": 37,
   "metadata": {
    "collapsed": true
   },
   "outputs": [],
   "source": [
    "# Addition           +\n",
    "# Subtraction        - \n",
    "# Division           / \n",
    "# Integer Division   // \n",
    "# Modulo             %\n"
   ]
  },
  {
   "cell_type": "code",
   "execution_count": 3,
   "metadata": {},
   "outputs": [
    {
     "name": "stdout",
     "output_type": "stream",
     "text": [
      "2\n"
     ]
    }
   ],
   "source": [
    "add = 1 + 1\n",
    "print(add)"
   ]
  },
  {
   "cell_type": "code",
   "execution_count": 4,
   "metadata": {},
   "outputs": [
    {
     "name": "stdout",
     "output_type": "stream",
     "text": [
      "2096\n"
     ]
    }
   ],
   "source": [
    "subtract = 2309 - 213\n",
    "print(subtract)"
   ]
  },
  {
   "cell_type": "code",
   "execution_count": 9,
   "metadata": {
    "scrolled": true,
    "tags": []
   },
   "outputs": [
    {
     "name": "stdout",
     "output_type": "stream",
     "text": [
      "-0.8333333333333334\n"
     ]
    }
   ],
   "source": [
    "divide = 5/-6\n",
    "print(divide)"
   ]
  },
  {
   "cell_type": "code",
   "execution_count": 6,
   "metadata": {},
   "outputs": [
    {
     "name": "stdout",
     "output_type": "stream",
     "text": [
      "-1\n"
     ]
    }
   ],
   "source": [
    "divideInteger = 5//-6\n",
    "print(divideInteger)"
   ]
  },
  {
   "cell_type": "code",
   "execution_count": 10,
   "metadata": {
    "scrolled": true,
    "tags": []
   },
   "outputs": [
    {
     "name": "stdout",
     "output_type": "stream",
     "text": [
      "0\n"
     ]
    }
   ],
   "source": [
    "print(int(divide))"
   ]
  },
  {
   "cell_type": "code",
   "execution_count": 11,
   "metadata": {
    "scrolled": true,
    "tags": []
   },
   "outputs": [
    {
     "name": "stdout",
     "output_type": "stream",
     "text": [
      "4\n"
     ]
    }
   ],
   "source": [
    "modulo = 12 % 8\n",
    "print(modulo)"
   ]
  },
  {
   "cell_type": "markdown",
   "metadata": {},
   "source": [
    "## LOGICAL OPERATORS"
   ]
  },
  {
   "cell_type": "code",
   "execution_count": 2,
   "metadata": {},
   "outputs": [],
   "source": [
    "# Greater than                >\n",
    "# Less than                   <\n",
    "# Equal to                    =\n",
    "# Greater than or equal to    >=\n",
    "# Less than or equal to       <=\n",
    "# Not                         !\n",
    "# Not equal to                !="
   ]
  },
  {
   "cell_type": "markdown",
   "metadata": {},
   "source": [
    "### Print the numbers from 1 - 5 inclusive"
   ]
  },
  {
   "cell_type": "code",
   "execution_count": 20,
   "metadata": {},
   "outputs": [
    {
     "name": "stdout",
     "output_type": "stream",
     "text": [
      "1\n",
      "2\n",
      "3\n",
      "4\n",
      "5\n"
     ]
    }
   ],
   "source": [
    "x = 1\n",
    "while (x <= 5 and x > 0):\n",
    "    print(x)\n",
    "    x+=1  # x = x + 1"
   ]
  },
  {
   "cell_type": "markdown",
   "metadata": {},
   "source": [
    "### Print \"Hello\" if x is less than 11 or equal to 10. Print \"Goodbye\" for all other cases."
   ]
  },
  {
   "cell_type": "code",
   "execution_count": 34,
   "metadata": {},
   "outputs": [
    {
     "name": "stdout",
     "output_type": "stream",
     "text": [
      "Hello\n"
     ]
    }
   ],
   "source": [
    "#x = 15\n",
    "x = 5\n",
    "if (x < 11 or x == 10):\n",
    "    print(\"Hello\")\n",
    "else:\n",
    "    print(\"Goodbye\")"
   ]
  },
  {
   "cell_type": "markdown",
   "metadata": {
    "scrolled": true
   },
   "source": [
    "# Control Statements - If Statements and Booleans\n",
    "### Is it ok to go on a walk in San Francisco?"
   ]
  },
  {
   "cell_type": "code",
   "execution_count": 41,
   "metadata": {
    "tags": []
   },
   "outputs": [
    {
     "name": "stdout",
     "output_type": "stream",
     "text": [
      "yes! go out and enjoy the day\n"
     ]
    }
   ],
   "source": [
    "clearSky = True\n",
    "\n",
    "if clearSky:\n",
    "    print(\"yes! go out and enjoy the day\")\n",
    "else:\n",
    "    print(\"no, you should be used to this by now\")\n",
    "\n"
   ]
  },
  {
   "cell_type": "code",
   "execution_count": 47,
   "metadata": {
    "tags": []
   },
   "outputs": [
    {
     "name": "stdout",
     "output_type": "stream",
     "text": [
      "yes! go out and enjoy the day\n"
     ]
    }
   ],
   "source": [
    "clearSky = True\n",
    "airQuality = 221\n",
    "\n",
    "if clearSky:\n",
    "    print(\"yes! go out and enjoy the day\")\n",
    "elif airQuality < 150:\n",
    "    print(\"yes, unless you are particularly sensitive\")\n",
    "else:\n",
    "    print(\"No, stay home. You should be used to this by now\") "
   ]
  },
  {
   "cell_type": "markdown",
   "metadata": {},
   "source": [
    "### What if I wanted to check every day?\n",
    "\n"
   ]
  },
  {
   "cell_type": "markdown",
   "metadata": {},
   "source": [
    "# FUNCTIONS"
   ]
  },
  {
   "cell_type": "code",
   "execution_count": 43,
   "metadata": {
    "tags": []
   },
   "outputs": [],
   "source": [
    "def goOut(clear, quality):\n",
    "    print(\"Clear Sky:\", clear)\n",
    "    print(\"Air Quality:\", quality)\n",
    "\n",
    "    if clear:\n",
    "        print(\"Go out and enjoy the day!\")\n",
    "    elif quality < 150:\n",
    "        print(\"Yes, unless you are particularly sensitive\")\n",
    "    else:\n",
    "        print(\"No, stay home. You should be used to this by now\") \n"
   ]
  },
  {
   "cell_type": "code",
   "execution_count": 44,
   "metadata": {
    "tags": []
   },
   "outputs": [
    {
     "name": "stdout",
     "output_type": "stream",
     "text": [
      "Clear Sky: True\n",
      "Air Quality: 222\n",
      "Go out and enjoy the day!\n"
     ]
    }
   ],
   "source": [
    "# clearSky = True\n",
    "# airQuality = 221\n",
    "\n",
    "goOut(clearSky, airQuality)"
   ]
  },
  {
   "cell_type": "code",
   "execution_count": 46,
   "metadata": {
    "tags": []
   },
   "outputs": [
    {
     "name": "stdout",
     "output_type": "stream",
     "text": [
      "Should I go outside\n",
      "Clear Sky True\n",
      "Air Quality 222\n",
      "Clear Sky: True\n",
      "Air Quality: 222\n",
      "Go out and enjoy the day!\n",
      "<class 'str'>\n",
      "<class 'str'>\n"
     ]
    }
   ],
   "source": [
    "\n",
    "clearSky = input(\"The sky is clear. True or False: \")\n",
    "airQuality = input(\"What is the air quality index? \")\n",
    "\n",
    "print(\"Clear Sky\", clearSky)\n",
    "print(\"Air Quality\", airQuality)\n",
    "\n",
    "goOut(clearSky, airQuality)\n",
    "\n",
    "print(type(clearSky))\n",
    "print(type(airQuality))\n"
   ]
  },
  {
   "cell_type": "code",
   "execution_count": null,
   "metadata": {},
   "outputs": [],
   "source": []
  }
 ],
 "metadata": {
  "kernelspec": {
   "display_name": "Python 3",
   "language": "python",
   "name": "python3"
  },
  "language_info": {
   "codemirror_mode": {
    "name": "ipython",
    "version": 3
   },
   "file_extension": ".py",
   "mimetype": "text/x-python",
   "name": "python",
   "nbconvert_exporter": "python",
   "pygments_lexer": "ipython3",
   "version": "3.7.4"
  }
 },
 "nbformat": 4,
 "nbformat_minor": 4
}

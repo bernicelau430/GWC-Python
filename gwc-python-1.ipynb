{
 "cells": [
  {
   "cell_type": "markdown",
   "metadata": {},
   "source": [
    "# PYTHON BASICS\n"
   ]
  },
  {
   "cell_type": "code",
   "execution_count": 32,
   "metadata": {
    "scrolled": true
   },
   "outputs": [],
   "source": [
    "# String - a string of characters\n",
    "# Integer  - a whole number\n",
    "# Float - decimals\n",
    "# Boolean  - T or F"
   ]
  },
  {
   "cell_type": "code",
   "execution_count": 33,
   "metadata": {
    "scrolled": true,
    "tags": []
   },
   "outputs": [
    {
     "output_type": "stream",
     "name": "stdout",
     "text": "Hello World\n5\n55.5\nTrue\n"
    }
   ],
   "source": [
    "# print statements\n",
    "print(\"Hello World\")\n",
    "print(5)\n",
    "print(55.5)\n",
    "print(True)\n"
   ]
  },
  {
   "cell_type": "code",
   "execution_count": 34,
   "metadata": {
    "scrolled": true,
    "tags": []
   },
   "outputs": [
    {
     "output_type": "stream",
     "name": "stdout",
     "text": "Hello World\n5\n55.5\nTrue\n"
    }
   ],
   "source": [
    "myString = \"Hello World\"\n",
    "myInteger = 5\n",
    "myFloat = 55.5\n",
    "myBoolean = True\n",
    "\n",
    "print(myString)\n",
    "print(myInteger)\n",
    "print(myFloat)\n",
    "print(myBoolean)\n"
   ]
  },
  {
   "cell_type": "markdown",
   "metadata": {},
   "source": [
    "## WHAT IS THE OUTPUT?\n"
   ]
  },
  {
   "cell_type": "code",
   "execution_count": 35,
   "metadata": {
    "scrolled": true,
    "tags": []
   },
   "outputs": [
    {
     "output_type": "stream",
     "name": "stdout",
     "text": "Hello WorldI'm Kimia\n"
    }
   ],
   "source": [
    "# myString = \"Hello World\"\n",
    "print(myString + \"I'm Kimia\")"
   ]
  },
  {
   "cell_type": "code",
   "execution_count": 36,
   "metadata": {
    "scrolled": true
   },
   "outputs": [
    {
     "output_type": "error",
     "ename": "TypeError",
     "evalue": "can only concatenate str (not \"int\") to str",
     "traceback": [
      "\u001b[0;31m---------------------------------------------------------------------------\u001b[0m",
      "\u001b[0;31mTypeError\u001b[0m                                 Traceback (most recent call last)",
      "\u001b[0;32m<ipython-input-36-20a1fedc4363>\u001b[0m in \u001b[0;36m<module>\u001b[0;34m\u001b[0m\n\u001b[0;32m----> 1\u001b[0;31m \u001b[0mprint\u001b[0m\u001b[0;34m(\u001b[0m\u001b[0mmyString\u001b[0m \u001b[0;34m+\u001b[0m \u001b[0;36m6\u001b[0m\u001b[0;34m)\u001b[0m\u001b[0;34m\u001b[0m\u001b[0;34m\u001b[0m\u001b[0m\n\u001b[0m",
      "\u001b[0;31mTypeError\u001b[0m: can only concatenate str (not \"int\") to str"
     ]
    }
   ],
   "source": [
    "print(myString + 6)"
   ]
  },
  {
   "cell_type": "markdown",
   "metadata": {},
   "source": [
    "## MATH OPERATORS\n",
    "#   +   -   /   //  %"
   ]
  },
  {
   "cell_type": "code",
   "execution_count": 37,
   "metadata": {
    "collapsed": true
   },
   "outputs": [],
   "source": [
    "# Addition           +\n",
    "# Subtraction        - \n",
    "# Division           / \n",
    "# Integer Division   // \n",
    "# Modulo             %\n"
   ]
  },
  {
   "cell_type": "code",
   "execution_count": 38,
   "metadata": {
    "scrolled": true,
    "tags": []
   },
   "outputs": [
    {
     "output_type": "stream",
     "name": "stdout",
     "text": "-0.8333333333333334\n"
    }
   ],
   "source": [
    "sum = 5/-6\n",
    "print(sum)"
   ]
  },
  {
   "cell_type": "code",
   "execution_count": 39,
   "metadata": {
    "scrolled": true,
    "tags": []
   },
   "outputs": [
    {
     "output_type": "stream",
     "name": "stdout",
     "text": "0\n"
    }
   ],
   "source": [
    "print(int(sum))"
   ]
  },
  {
   "cell_type": "code",
   "execution_count": 40,
   "metadata": {
    "scrolled": true,
    "tags": []
   },
   "outputs": [
    {
     "output_type": "stream",
     "name": "stdout",
     "text": "-0.8333333333333334\n"
    }
   ],
   "source": [
    "print(sum)"
   ]
  },
  {
   "cell_type": "markdown",
   "metadata": {
    "scrolled": true
   },
   "source": [
    "# Control Statements - If Statments\n",
    "### Is it ok to go on a walk in San Francisco?"
   ]
  },
  {
   "cell_type": "code",
   "execution_count": 41,
   "metadata": {
    "tags": []
   },
   "outputs": [
    {
     "output_type": "stream",
     "name": "stdout",
     "text": "yes! go out and enjoy the day\n"
    }
   ],
   "source": [
    "clearSky = True\n",
    "\n",
    "if clearSky:\n",
    "    print(\"yes! go out and enjoy the day\")\n",
    "else:\n",
    "    print(\"no, you should be used to this by now\")\n",
    "\n"
   ]
  },
  {
   "cell_type": "code",
   "execution_count": 47,
   "metadata": {
    "tags": []
   },
   "outputs": [
    {
     "output_type": "stream",
     "name": "stdout",
     "text": "yes! go out and enjoy the day\n"
    }
   ],
   "source": [
    "clearSky = True\n",
    "airQuality = 221\n",
    "\n",
    "if clearSky:\n",
    "    print(\"yes! go out and enjoy the day\")\n",
    "elif airQuality < 150:\n",
    "    print(\"yes, unless you are particularly sensitive\")\n",
    "else:\n",
    "    print(\"No, stay home. You should be used to this by now\") "
   ]
  },
  {
   "cell_type": "markdown",
   "metadata": {},
   "source": [
    "### What if I wanted to check everyday?\n",
    "\n"
   ]
  },
  {
   "cell_type": "markdown",
   "metadata": {},
   "source": [
    "# FUNCTIONS"
   ]
  },
  {
   "cell_type": "code",
   "execution_count": 43,
   "metadata": {
    "tags": []
   },
   "outputs": [],
   "source": [
    "def goOut(clear, quality):\n",
    "    print(\"Clear Sky:\", clear)\n",
    "    print(\"Air Quality:\", quality)\n",
    "\n",
    "    if clear:\n",
    "        print(\"Go out and enjoy the day!\")\n",
    "    elif quality < 150:\n",
    "        print(\"Yes, unless you are particularly sensitive\")\n",
    "    else:\n",
    "        print(\"No, stay home. You should be used to this by now\") \n"
   ]
  },
  {
   "cell_type": "code",
   "execution_count": 44,
   "metadata": {
    "tags": []
   },
   "outputs": [
    {
     "output_type": "stream",
     "name": "stdout",
     "text": "Clear Sky: True\nAir Quality: 222\nGo out and enjoy the day!\n"
    }
   ],
   "source": [
    "# clearSky = True\n",
    "# airQuality = 221\n",
    "\n",
    "goOut(clearSky, airQuality)"
   ]
  },
  {
   "cell_type": "code",
   "execution_count": 46,
   "metadata": {
    "tags": []
   },
   "outputs": [
    {
     "output_type": "stream",
     "name": "stdout",
     "text": "Should I go outside\nClear Sky True\nAir Quality 222\nClear Sky: True\nAir Quality: 222\nGo out and enjoy the day!\n<class 'str'>\n<class 'str'>\n"
    }
   ],
   "source": [
    "\n",
    "clearSky = input(\"The sky is clear. True or False: \")\n",
    "airQuality = input(\"What is the air quality index? \")\n",
    "\n",
    "print(\"Clear Sky\", clearSky)\n",
    "print(\"Air Quality\", airQuality)\n",
    "\n",
    "goOut(clearSky, airQuality)\n",
    "\n",
    "print(type(clearSky))\n",
    "print(type(airQuality))\n"
   ]
  },
  {
   "cell_type": "code",
   "execution_count": null,
   "metadata": {},
   "outputs": [],
   "source": []
  }
 ],
 "metadata": {
  "kernelspec": {
   "display_name": "Python 3",
   "language": "python",
   "name": "python3"
  },
  "language_info": {
   "codemirror_mode": {
    "name": "ipython",
    "version": 3
   },
   "file_extension": ".py",
   "mimetype": "text/x-python",
   "name": "python",
   "nbconvert_exporter": "python",
   "pygments_lexer": "ipython3",
   "version": "3.8.2-final"
  }
 },
 "nbformat": 4,
 "nbformat_minor": 4
}